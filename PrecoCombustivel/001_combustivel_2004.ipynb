{
  "nbformat": 4,
  "nbformat_minor": 0,
  "metadata": {
    "colab": {
      "provenance": []
    },
    "kernelspec": {
      "name": "python3",
      "display_name": "Python 3"
    },
    "language_info": {
      "name": "python"
    }
  },
  "cells": [
    {
      "cell_type": "code",
      "execution_count": 1,
      "metadata": {
        "id": "E4eO06KRnsGv"
      },
      "outputs": [],
      "source": [
        "import pandas as pd"
      ]
    },
    {
      "cell_type": "code",
      "source": [
        "teste = pd.read_csv('/content/ca-2004-01.csv', sep =';')"
      ],
      "metadata": {
        "id": "rc45Gk8inwLm"
      },
      "execution_count": 2,
      "outputs": []
    },
    {
      "cell_type": "code",
      "source": [
        "teste.info()"
      ],
      "metadata": {
        "colab": {
          "base_uri": "https://localhost:8080/"
        },
        "id": "Hk-RYkHZn8uf",
        "outputId": "f532161a-5bfc-4d62-841f-b08fc023e9e2"
      },
      "execution_count": 3,
      "outputs": [
        {
          "output_type": "stream",
          "name": "stdout",
          "text": [
            "<class 'pandas.core.frame.DataFrame'>\n",
            "RangeIndex: 281531 entries, 0 to 281530\n",
            "Data columns (total 16 columns):\n",
            " #   Column             Non-Null Count   Dtype \n",
            "---  ------             --------------   ----- \n",
            " 0   Regiao - Sigla     281531 non-null  object\n",
            " 1   Estado - Sigla     281531 non-null  object\n",
            " 2   Municipio          281531 non-null  object\n",
            " 3   Revenda            281531 non-null  object\n",
            " 4   CNPJ da Revenda    281531 non-null  object\n",
            " 5   Nome da Rua        281531 non-null  object\n",
            " 6   Numero Rua         281358 non-null  object\n",
            " 7   Complemento        92233 non-null   object\n",
            " 8   Bairro             280713 non-null  object\n",
            " 9   Cep                281531 non-null  object\n",
            " 10  Produto            281531 non-null  object\n",
            " 11  Data da Coleta     281531 non-null  object\n",
            " 12  Valor de Venda     281531 non-null  object\n",
            " 13  Valor de Compra    195235 non-null  object\n",
            " 14  Unidade de Medida  281531 non-null  object\n",
            " 15  Bandeira           281531 non-null  object\n",
            "dtypes: object(16)\n",
            "memory usage: 34.4+ MB\n"
          ]
        }
      ]
    },
    {
      "cell_type": "code",
      "source": [
        "teste.isnull().sum()"
      ],
      "metadata": {
        "colab": {
          "base_uri": "https://localhost:8080/"
        },
        "id": "o7n1R6JFoWLF",
        "outputId": "13e4310c-2be4-4cda-b655-c56e8364722e"
      },
      "execution_count": 4,
      "outputs": [
        {
          "output_type": "execute_result",
          "data": {
            "text/plain": [
              "Regiao - Sigla            0\n",
              "Estado - Sigla            0\n",
              "Municipio                 0\n",
              "Revenda                   0\n",
              "CNPJ da Revenda           0\n",
              "Nome da Rua               0\n",
              "Numero Rua              173\n",
              "Complemento          189298\n",
              "Bairro                  818\n",
              "Cep                       0\n",
              "Produto                   0\n",
              "Data da Coleta            0\n",
              "Valor de Venda            0\n",
              "Valor de Compra       86296\n",
              "Unidade de Medida         0\n",
              "Bandeira                  0\n",
              "dtype: int64"
            ]
          },
          "metadata": {},
          "execution_count": 4
        }
      ]
    },
    {
      "cell_type": "code",
      "source": [
        "#como se nota, existem 4 variáveis/colunas com valores nulos"
      ],
      "metadata": {
        "id": "JIM9WJexqiEx"
      },
      "execution_count": 5,
      "outputs": []
    },
    {
      "cell_type": "code",
      "source": [
        "teste.duplicated().sum()"
      ],
      "metadata": {
        "id": "4IV7wwMcojKz",
        "colab": {
          "base_uri": "https://localhost:8080/"
        },
        "outputId": "c943a766-fe96-465d-86f8-dd66dcd8961c"
      },
      "execution_count": 6,
      "outputs": [
        {
          "output_type": "execute_result",
          "data": {
            "text/plain": [
              "0"
            ]
          },
          "metadata": {},
          "execution_count": 6
        }
      ]
    },
    {
      "cell_type": "code",
      "source": [
        "teste['Bairro'].value_counts()"
      ],
      "metadata": {
        "colab": {
          "base_uri": "https://localhost:8080/"
        },
        "id": "7aIbZ9eCqOBz",
        "outputId": "4645d214-8a13-4bab-cb03-75ac6aecd6f7"
      },
      "execution_count": 7,
      "outputs": [
        {
          "output_type": "execute_result",
          "data": {
            "text/plain": [
              "CENTRO                 56403\n",
              "ZONA RURAL              3683\n",
              "SEDE                    1546\n",
              "DISTRITO INDUSTRIAL     1416\n",
              "SÃO CRISTÓVÃO           1207\n",
              "                       ...  \n",
              "TERRAS ALTAS               2\n",
              "BASE NAVAL                 2\n",
              "PEITORÓ / CAXIAS           2\n",
              "JD. SAO MIGUEL             2\n",
              "SERRA DA SANTA             1\n",
              "Name: Bairro, Length: 5784, dtype: int64"
            ]
          },
          "metadata": {},
          "execution_count": 7
        }
      ]
    },
    {
      "cell_type": "code",
      "source": [
        "teste['Bairro'].unique()"
      ],
      "metadata": {
        "colab": {
          "base_uri": "https://localhost:8080/"
        },
        "id": "tcrZb55CsWDZ",
        "outputId": "47d05098-b4a6-461c-90e0-f27ed1205baa"
      },
      "execution_count": 8,
      "outputs": [
        {
          "output_type": "execute_result",
          "data": {
            "text/plain": [
              "array(['BONSUCESSO', 'JARDIM ZULMIRA', 'TAGUATINGA', ..., 'QUARÁ II',\n",
              "       'SERRA DA SANTA', 'LAGO AZUL'], dtype=object)"
            ]
          },
          "metadata": {},
          "execution_count": 8
        }
      ]
    },
    {
      "cell_type": "code",
      "source": [
        "teste['Bairro'].nunique()"
      ],
      "metadata": {
        "colab": {
          "base_uri": "https://localhost:8080/"
        },
        "id": "0WzQ4riAsvXl",
        "outputId": "ae4992e2-33c7-4272-d505-ba08bec4da99"
      },
      "execution_count": 9,
      "outputs": [
        {
          "output_type": "execute_result",
          "data": {
            "text/plain": [
              "5784"
            ]
          },
          "metadata": {},
          "execution_count": 9
        }
      ]
    },
    {
      "cell_type": "code",
      "source": [
        "#função para receber as 3 sintaxes acima\n",
        "def funcao_teste(dataframe, coluna):\n",
        "  print(f'Contar valores: {dataframe[coluna].value_counts()}')\n",
        "  print('=-'* 20)\n",
        "  print(f'Quais são esses valores: {dataframe[coluna].unique()}')\n",
        "  print('=-' * 20)\n",
        "  print(f'Quantos valores únicos existem: {dataframe[coluna].nunique()}')\n",
        "  print('=-'* 20)\n",
        "  print(f'Numeros nulos: {dataframe[coluna].isnull().sum()}')"
      ],
      "metadata": {
        "id": "TnixH5vNsyLB"
      },
      "execution_count": 10,
      "outputs": []
    },
    {
      "cell_type": "code",
      "source": [
        "funcao_teste(teste, \"Bairro\")"
      ],
      "metadata": {
        "colab": {
          "base_uri": "https://localhost:8080/"
        },
        "id": "68F14Rq3tgXP",
        "outputId": "2269657f-d3a0-4cc5-eb0c-49edb94468a2"
      },
      "execution_count": 11,
      "outputs": [
        {
          "output_type": "stream",
          "name": "stdout",
          "text": [
            "Contar valores: CENTRO                 56403\n",
            "ZONA RURAL              3683\n",
            "SEDE                    1546\n",
            "DISTRITO INDUSTRIAL     1416\n",
            "SÃO CRISTÓVÃO           1207\n",
            "                       ...  \n",
            "TERRAS ALTAS               2\n",
            "BASE NAVAL                 2\n",
            "PEITORÓ / CAXIAS           2\n",
            "JD. SAO MIGUEL             2\n",
            "SERRA DA SANTA             1\n",
            "Name: Bairro, Length: 5784, dtype: int64\n",
            "=-=-=-=-=-=-=-=-=-=-=-=-=-=-=-=-=-=-=-=-\n",
            "Quais são esses valores: ['BONSUCESSO' 'JARDIM ZULMIRA' 'TAGUATINGA' ... 'QUARÁ II'\n",
            " 'SERRA DA SANTA' 'LAGO AZUL']\n",
            "=-=-=-=-=-=-=-=-=-=-=-=-=-=-=-=-=-=-=-=-\n",
            "Quantos valores únicos existem: 5784\n",
            "=-=-=-=-=-=-=-=-=-=-=-=-=-=-=-=-=-=-=-=-\n",
            "Numeros nulos: 818\n"
          ]
        }
      ]
    },
    {
      "cell_type": "code",
      "source": [
        "funcao_teste(teste, \"Valor de Compra\")"
      ],
      "metadata": {
        "colab": {
          "base_uri": "https://localhost:8080/"
        },
        "id": "PXC9MGAbtkRX",
        "outputId": "72d3b718-2c62-4c19-9f7f-d07c22fdcabe"
      },
      "execution_count": 12,
      "outputs": [
        {
          "output_type": "stream",
          "name": "stdout",
          "text": [
            "Contar valores: 1,66       841\n",
            "1,69       812\n",
            "1,19       801\n",
            "1,65       788\n",
            "1,21       717\n",
            "          ... \n",
            "1,75253      1\n",
            "1,79626      1\n",
            "1,76507      1\n",
            "1,87438      1\n",
            "1,32511      1\n",
            "Name: Valor de Compra, Length: 18224, dtype: int64\n",
            "=-=-=-=-=-=-=-=-=-=-=-=-=-=-=-=-=-=-=-=-\n",
            "Quais são esses valores: ['1,6623' '0,6282' '1,1704' ... '0,72863' '0,79841' '1,32511']\n",
            "=-=-=-=-=-=-=-=-=-=-=-=-=-=-=-=-=-=-=-=-\n",
            "Quantos valores únicos existem: 18224\n",
            "=-=-=-=-=-=-=-=-=-=-=-=-=-=-=-=-=-=-=-=-\n",
            "Numeros nulos: 86296\n"
          ]
        }
      ]
    },
    {
      "cell_type": "code",
      "source": [
        "#pensei em preencher esses valores nulos de acordo com a frequencia de bairros/cidades para imputar valores em \"bairros\" e \"Valor de compra\""
      ],
      "metadata": {
        "id": "MKZ4kEGXvotM"
      },
      "execution_count": 13,
      "outputs": []
    },
    {
      "cell_type": "code",
      "source": [
        "teste['Municipio'].nunique()"
      ],
      "metadata": {
        "colab": {
          "base_uri": "https://localhost:8080/"
        },
        "id": "CXHqKkO5xVHM",
        "outputId": "e4365b36-30e6-41c5-b5a6-7cf3b10a53ea"
      },
      "execution_count": 14,
      "outputs": [
        {
          "output_type": "execute_result",
          "data": {
            "text/plain": [
              "616"
            ]
          },
          "metadata": {},
          "execution_count": 14
        }
      ]
    },
    {
      "cell_type": "code",
      "source": [
        "teste['Bairro'].groupby(teste['Municipio']).value_counts().nlargest(5)"
      ],
      "metadata": {
        "colab": {
          "base_uri": "https://localhost:8080/"
        },
        "id": "AZQTZl9J3X2C",
        "outputId": "afdc00c4-9651-45ec-de92-2dea71c14672"
      },
      "execution_count": 15,
      "outputs": [
        {
          "output_type": "execute_result",
          "data": {
            "text/plain": [
              "Municipio       Bairro      \n",
              "RIO DE JANEIRO  CAMPO GRANDE    741\n",
              "SAO PAULO       SANTO AMARO     519\n",
              "                IPIRANGA        511\n",
              "BRUSQUE         CENTRO          417\n",
              "CASCAVEL        CENTRO          393\n",
              "Name: Bairro, dtype: int64"
            ]
          },
          "metadata": {},
          "execution_count": 15
        }
      ]
    },
    {
      "cell_type": "code",
      "source": [
        "filtrobairro = teste.groupby(['Municipio']).Bairro.value_counts().groupby(level=0, group_keys=False).head(1)\n",
        "filtrando = pd.DataFrame(filtrobairro)\n",
        "filtrando"
      ],
      "metadata": {
        "colab": {
          "base_uri": "https://localhost:8080/",
          "height": 455
        },
        "id": "PjV2H_9x-Y06",
        "outputId": "eb41f4e0-fe2d-4331-9496-e768011daa75"
      },
      "execution_count": 16,
      "outputs": [
        {
          "output_type": "execute_result",
          "data": {
            "text/plain": [
              "                                       Bairro\n",
              "Municipio             Bairro                 \n",
              "ABAETETUBA            CENTRO               28\n",
              "ABREU E LIMA          TIMBÓ                64\n",
              "ACAILANDIA            CENTRO               79\n",
              "ADAMANTINA            CENTRO              140\n",
              "AFOGADOS DA INGAZEIRA CENTRO               72\n",
              "...                                       ...\n",
              "VOTORANTIM            CENTRO               94\n",
              "VOTUPORANGA           JARDIM ALVORADA      48\n",
              "XANXERE               CENTRO              156\n",
              "XAPURI                CENTRO               28\n",
              "XINGUARA              CENTRO               67\n",
              "\n",
              "[616 rows x 1 columns]"
            ],
            "text/html": [
              "\n",
              "  <div id=\"df-a42d317b-c203-47b6-91e3-65a748e6d3fe\">\n",
              "    <div class=\"colab-df-container\">\n",
              "      <div>\n",
              "<style scoped>\n",
              "    .dataframe tbody tr th:only-of-type {\n",
              "        vertical-align: middle;\n",
              "    }\n",
              "\n",
              "    .dataframe tbody tr th {\n",
              "        vertical-align: top;\n",
              "    }\n",
              "\n",
              "    .dataframe thead th {\n",
              "        text-align: right;\n",
              "    }\n",
              "</style>\n",
              "<table border=\"1\" class=\"dataframe\">\n",
              "  <thead>\n",
              "    <tr style=\"text-align: right;\">\n",
              "      <th></th>\n",
              "      <th></th>\n",
              "      <th>Bairro</th>\n",
              "    </tr>\n",
              "    <tr>\n",
              "      <th>Municipio</th>\n",
              "      <th>Bairro</th>\n",
              "      <th></th>\n",
              "    </tr>\n",
              "  </thead>\n",
              "  <tbody>\n",
              "    <tr>\n",
              "      <th>ABAETETUBA</th>\n",
              "      <th>CENTRO</th>\n",
              "      <td>28</td>\n",
              "    </tr>\n",
              "    <tr>\n",
              "      <th>ABREU E LIMA</th>\n",
              "      <th>TIMBÓ</th>\n",
              "      <td>64</td>\n",
              "    </tr>\n",
              "    <tr>\n",
              "      <th>ACAILANDIA</th>\n",
              "      <th>CENTRO</th>\n",
              "      <td>79</td>\n",
              "    </tr>\n",
              "    <tr>\n",
              "      <th>ADAMANTINA</th>\n",
              "      <th>CENTRO</th>\n",
              "      <td>140</td>\n",
              "    </tr>\n",
              "    <tr>\n",
              "      <th>AFOGADOS DA INGAZEIRA</th>\n",
              "      <th>CENTRO</th>\n",
              "      <td>72</td>\n",
              "    </tr>\n",
              "    <tr>\n",
              "      <th>...</th>\n",
              "      <th>...</th>\n",
              "      <td>...</td>\n",
              "    </tr>\n",
              "    <tr>\n",
              "      <th>VOTORANTIM</th>\n",
              "      <th>CENTRO</th>\n",
              "      <td>94</td>\n",
              "    </tr>\n",
              "    <tr>\n",
              "      <th>VOTUPORANGA</th>\n",
              "      <th>JARDIM ALVORADA</th>\n",
              "      <td>48</td>\n",
              "    </tr>\n",
              "    <tr>\n",
              "      <th>XANXERE</th>\n",
              "      <th>CENTRO</th>\n",
              "      <td>156</td>\n",
              "    </tr>\n",
              "    <tr>\n",
              "      <th>XAPURI</th>\n",
              "      <th>CENTRO</th>\n",
              "      <td>28</td>\n",
              "    </tr>\n",
              "    <tr>\n",
              "      <th>XINGUARA</th>\n",
              "      <th>CENTRO</th>\n",
              "      <td>67</td>\n",
              "    </tr>\n",
              "  </tbody>\n",
              "</table>\n",
              "<p>616 rows × 1 columns</p>\n",
              "</div>\n",
              "      <button class=\"colab-df-convert\" onclick=\"convertToInteractive('df-a42d317b-c203-47b6-91e3-65a748e6d3fe')\"\n",
              "              title=\"Convert this dataframe to an interactive table.\"\n",
              "              style=\"display:none;\">\n",
              "        \n",
              "  <svg xmlns=\"http://www.w3.org/2000/svg\" height=\"24px\"viewBox=\"0 0 24 24\"\n",
              "       width=\"24px\">\n",
              "    <path d=\"M0 0h24v24H0V0z\" fill=\"none\"/>\n",
              "    <path d=\"M18.56 5.44l.94 2.06.94-2.06 2.06-.94-2.06-.94-.94-2.06-.94 2.06-2.06.94zm-11 1L8.5 8.5l.94-2.06 2.06-.94-2.06-.94L8.5 2.5l-.94 2.06-2.06.94zm10 10l.94 2.06.94-2.06 2.06-.94-2.06-.94-.94-2.06-.94 2.06-2.06.94z\"/><path d=\"M17.41 7.96l-1.37-1.37c-.4-.4-.92-.59-1.43-.59-.52 0-1.04.2-1.43.59L10.3 9.45l-7.72 7.72c-.78.78-.78 2.05 0 2.83L4 21.41c.39.39.9.59 1.41.59.51 0 1.02-.2 1.41-.59l7.78-7.78 2.81-2.81c.8-.78.8-2.07 0-2.86zM5.41 20L4 18.59l7.72-7.72 1.47 1.35L5.41 20z\"/>\n",
              "  </svg>\n",
              "      </button>\n",
              "      \n",
              "  <style>\n",
              "    .colab-df-container {\n",
              "      display:flex;\n",
              "      flex-wrap:wrap;\n",
              "      gap: 12px;\n",
              "    }\n",
              "\n",
              "    .colab-df-convert {\n",
              "      background-color: #E8F0FE;\n",
              "      border: none;\n",
              "      border-radius: 50%;\n",
              "      cursor: pointer;\n",
              "      display: none;\n",
              "      fill: #1967D2;\n",
              "      height: 32px;\n",
              "      padding: 0 0 0 0;\n",
              "      width: 32px;\n",
              "    }\n",
              "\n",
              "    .colab-df-convert:hover {\n",
              "      background-color: #E2EBFA;\n",
              "      box-shadow: 0px 1px 2px rgba(60, 64, 67, 0.3), 0px 1px 3px 1px rgba(60, 64, 67, 0.15);\n",
              "      fill: #174EA6;\n",
              "    }\n",
              "\n",
              "    [theme=dark] .colab-df-convert {\n",
              "      background-color: #3B4455;\n",
              "      fill: #D2E3FC;\n",
              "    }\n",
              "\n",
              "    [theme=dark] .colab-df-convert:hover {\n",
              "      background-color: #434B5C;\n",
              "      box-shadow: 0px 1px 3px 1px rgba(0, 0, 0, 0.15);\n",
              "      filter: drop-shadow(0px 1px 2px rgba(0, 0, 0, 0.3));\n",
              "      fill: #FFFFFF;\n",
              "    }\n",
              "  </style>\n",
              "\n",
              "      <script>\n",
              "        const buttonEl =\n",
              "          document.querySelector('#df-a42d317b-c203-47b6-91e3-65a748e6d3fe button.colab-df-convert');\n",
              "        buttonEl.style.display =\n",
              "          google.colab.kernel.accessAllowed ? 'block' : 'none';\n",
              "\n",
              "        async function convertToInteractive(key) {\n",
              "          const element = document.querySelector('#df-a42d317b-c203-47b6-91e3-65a748e6d3fe');\n",
              "          const dataTable =\n",
              "            await google.colab.kernel.invokeFunction('convertToInteractive',\n",
              "                                                     [key], {});\n",
              "          if (!dataTable) return;\n",
              "\n",
              "          const docLinkHtml = 'Like what you see? Visit the ' +\n",
              "            '<a target=\"_blank\" href=https://colab.research.google.com/notebooks/data_table.ipynb>data table notebook</a>'\n",
              "            + ' to learn more about interactive tables.';\n",
              "          element.innerHTML = '';\n",
              "          dataTable['output_type'] = 'display_data';\n",
              "          await google.colab.output.renderOutput(dataTable, element);\n",
              "          const docLink = document.createElement('div');\n",
              "          docLink.innerHTML = docLinkHtml;\n",
              "          element.appendChild(docLink);\n",
              "        }\n",
              "      </script>\n",
              "    </div>\n",
              "  </div>\n",
              "  "
            ]
          },
          "metadata": {},
          "execution_count": 16
        }
      ]
    },
    {
      "cell_type": "code",
      "source": [
        "filtrando.info()"
      ],
      "metadata": {
        "colab": {
          "base_uri": "https://localhost:8080/"
        },
        "id": "LcM_j4TsVIar",
        "outputId": "7c35065a-6202-4f11-82e7-b62221d21295"
      },
      "execution_count": 17,
      "outputs": [
        {
          "output_type": "stream",
          "name": "stdout",
          "text": [
            "<class 'pandas.core.frame.DataFrame'>\n",
            "MultiIndex: 616 entries, ('ABAETETUBA', 'CENTRO') to ('XINGUARA', 'CENTRO')\n",
            "Data columns (total 1 columns):\n",
            " #   Column  Non-Null Count  Dtype\n",
            "---  ------  --------------  -----\n",
            " 0   Bairro  616 non-null    int64\n",
            "dtypes: int64(1)\n",
            "memory usage: 73.5+ KB\n"
          ]
        }
      ]
    },
    {
      "cell_type": "code",
      "source": [
        "filtrando.columns = ['Valores']\n",
        "filtrando"
      ],
      "metadata": {
        "colab": {
          "base_uri": "https://localhost:8080/",
          "height": 455
        },
        "id": "G-YnNB62Nef4",
        "outputId": "e0ea79fb-6a47-44db-c334-1bd571f4f1ce"
      },
      "execution_count": 18,
      "outputs": [
        {
          "output_type": "execute_result",
          "data": {
            "text/plain": [
              "                                       Valores\n",
              "Municipio             Bairro                  \n",
              "ABAETETUBA            CENTRO                28\n",
              "ABREU E LIMA          TIMBÓ                 64\n",
              "ACAILANDIA            CENTRO                79\n",
              "ADAMANTINA            CENTRO               140\n",
              "AFOGADOS DA INGAZEIRA CENTRO                72\n",
              "...                                        ...\n",
              "VOTORANTIM            CENTRO                94\n",
              "VOTUPORANGA           JARDIM ALVORADA       48\n",
              "XANXERE               CENTRO               156\n",
              "XAPURI                CENTRO                28\n",
              "XINGUARA              CENTRO                67\n",
              "\n",
              "[616 rows x 1 columns]"
            ],
            "text/html": [
              "\n",
              "  <div id=\"df-03bbbe22-ebb1-4143-a0be-ccf4d67d428f\">\n",
              "    <div class=\"colab-df-container\">\n",
              "      <div>\n",
              "<style scoped>\n",
              "    .dataframe tbody tr th:only-of-type {\n",
              "        vertical-align: middle;\n",
              "    }\n",
              "\n",
              "    .dataframe tbody tr th {\n",
              "        vertical-align: top;\n",
              "    }\n",
              "\n",
              "    .dataframe thead th {\n",
              "        text-align: right;\n",
              "    }\n",
              "</style>\n",
              "<table border=\"1\" class=\"dataframe\">\n",
              "  <thead>\n",
              "    <tr style=\"text-align: right;\">\n",
              "      <th></th>\n",
              "      <th></th>\n",
              "      <th>Valores</th>\n",
              "    </tr>\n",
              "    <tr>\n",
              "      <th>Municipio</th>\n",
              "      <th>Bairro</th>\n",
              "      <th></th>\n",
              "    </tr>\n",
              "  </thead>\n",
              "  <tbody>\n",
              "    <tr>\n",
              "      <th>ABAETETUBA</th>\n",
              "      <th>CENTRO</th>\n",
              "      <td>28</td>\n",
              "    </tr>\n",
              "    <tr>\n",
              "      <th>ABREU E LIMA</th>\n",
              "      <th>TIMBÓ</th>\n",
              "      <td>64</td>\n",
              "    </tr>\n",
              "    <tr>\n",
              "      <th>ACAILANDIA</th>\n",
              "      <th>CENTRO</th>\n",
              "      <td>79</td>\n",
              "    </tr>\n",
              "    <tr>\n",
              "      <th>ADAMANTINA</th>\n",
              "      <th>CENTRO</th>\n",
              "      <td>140</td>\n",
              "    </tr>\n",
              "    <tr>\n",
              "      <th>AFOGADOS DA INGAZEIRA</th>\n",
              "      <th>CENTRO</th>\n",
              "      <td>72</td>\n",
              "    </tr>\n",
              "    <tr>\n",
              "      <th>...</th>\n",
              "      <th>...</th>\n",
              "      <td>...</td>\n",
              "    </tr>\n",
              "    <tr>\n",
              "      <th>VOTORANTIM</th>\n",
              "      <th>CENTRO</th>\n",
              "      <td>94</td>\n",
              "    </tr>\n",
              "    <tr>\n",
              "      <th>VOTUPORANGA</th>\n",
              "      <th>JARDIM ALVORADA</th>\n",
              "      <td>48</td>\n",
              "    </tr>\n",
              "    <tr>\n",
              "      <th>XANXERE</th>\n",
              "      <th>CENTRO</th>\n",
              "      <td>156</td>\n",
              "    </tr>\n",
              "    <tr>\n",
              "      <th>XAPURI</th>\n",
              "      <th>CENTRO</th>\n",
              "      <td>28</td>\n",
              "    </tr>\n",
              "    <tr>\n",
              "      <th>XINGUARA</th>\n",
              "      <th>CENTRO</th>\n",
              "      <td>67</td>\n",
              "    </tr>\n",
              "  </tbody>\n",
              "</table>\n",
              "<p>616 rows × 1 columns</p>\n",
              "</div>\n",
              "      <button class=\"colab-df-convert\" onclick=\"convertToInteractive('df-03bbbe22-ebb1-4143-a0be-ccf4d67d428f')\"\n",
              "              title=\"Convert this dataframe to an interactive table.\"\n",
              "              style=\"display:none;\">\n",
              "        \n",
              "  <svg xmlns=\"http://www.w3.org/2000/svg\" height=\"24px\"viewBox=\"0 0 24 24\"\n",
              "       width=\"24px\">\n",
              "    <path d=\"M0 0h24v24H0V0z\" fill=\"none\"/>\n",
              "    <path d=\"M18.56 5.44l.94 2.06.94-2.06 2.06-.94-2.06-.94-.94-2.06-.94 2.06-2.06.94zm-11 1L8.5 8.5l.94-2.06 2.06-.94-2.06-.94L8.5 2.5l-.94 2.06-2.06.94zm10 10l.94 2.06.94-2.06 2.06-.94-2.06-.94-.94-2.06-.94 2.06-2.06.94z\"/><path d=\"M17.41 7.96l-1.37-1.37c-.4-.4-.92-.59-1.43-.59-.52 0-1.04.2-1.43.59L10.3 9.45l-7.72 7.72c-.78.78-.78 2.05 0 2.83L4 21.41c.39.39.9.59 1.41.59.51 0 1.02-.2 1.41-.59l7.78-7.78 2.81-2.81c.8-.78.8-2.07 0-2.86zM5.41 20L4 18.59l7.72-7.72 1.47 1.35L5.41 20z\"/>\n",
              "  </svg>\n",
              "      </button>\n",
              "      \n",
              "  <style>\n",
              "    .colab-df-container {\n",
              "      display:flex;\n",
              "      flex-wrap:wrap;\n",
              "      gap: 12px;\n",
              "    }\n",
              "\n",
              "    .colab-df-convert {\n",
              "      background-color: #E8F0FE;\n",
              "      border: none;\n",
              "      border-radius: 50%;\n",
              "      cursor: pointer;\n",
              "      display: none;\n",
              "      fill: #1967D2;\n",
              "      height: 32px;\n",
              "      padding: 0 0 0 0;\n",
              "      width: 32px;\n",
              "    }\n",
              "\n",
              "    .colab-df-convert:hover {\n",
              "      background-color: #E2EBFA;\n",
              "      box-shadow: 0px 1px 2px rgba(60, 64, 67, 0.3), 0px 1px 3px 1px rgba(60, 64, 67, 0.15);\n",
              "      fill: #174EA6;\n",
              "    }\n",
              "\n",
              "    [theme=dark] .colab-df-convert {\n",
              "      background-color: #3B4455;\n",
              "      fill: #D2E3FC;\n",
              "    }\n",
              "\n",
              "    [theme=dark] .colab-df-convert:hover {\n",
              "      background-color: #434B5C;\n",
              "      box-shadow: 0px 1px 3px 1px rgba(0, 0, 0, 0.15);\n",
              "      filter: drop-shadow(0px 1px 2px rgba(0, 0, 0, 0.3));\n",
              "      fill: #FFFFFF;\n",
              "    }\n",
              "  </style>\n",
              "\n",
              "      <script>\n",
              "        const buttonEl =\n",
              "          document.querySelector('#df-03bbbe22-ebb1-4143-a0be-ccf4d67d428f button.colab-df-convert');\n",
              "        buttonEl.style.display =\n",
              "          google.colab.kernel.accessAllowed ? 'block' : 'none';\n",
              "\n",
              "        async function convertToInteractive(key) {\n",
              "          const element = document.querySelector('#df-03bbbe22-ebb1-4143-a0be-ccf4d67d428f');\n",
              "          const dataTable =\n",
              "            await google.colab.kernel.invokeFunction('convertToInteractive',\n",
              "                                                     [key], {});\n",
              "          if (!dataTable) return;\n",
              "\n",
              "          const docLinkHtml = 'Like what you see? Visit the ' +\n",
              "            '<a target=\"_blank\" href=https://colab.research.google.com/notebooks/data_table.ipynb>data table notebook</a>'\n",
              "            + ' to learn more about interactive tables.';\n",
              "          element.innerHTML = '';\n",
              "          dataTable['output_type'] = 'display_data';\n",
              "          await google.colab.output.renderOutput(dataTable, element);\n",
              "          const docLink = document.createElement('div');\n",
              "          docLink.innerHTML = docLinkHtml;\n",
              "          element.appendChild(docLink);\n",
              "        }\n",
              "      </script>\n",
              "    </div>\n",
              "  </div>\n",
              "  "
            ]
          },
          "metadata": {},
          "execution_count": 18
        }
      ]
    },
    {
      "cell_type": "code",
      "source": [
        "filtrando.drop(columns = ['Valores'], axis = 1, inplace = True)\n",
        "filtrando"
      ],
      "metadata": {
        "colab": {
          "base_uri": "https://localhost:8080/",
          "height": 437
        },
        "id": "Q3hsSaf1Hjo7",
        "outputId": "40c39980-94fd-4043-893a-dcad11eb780f"
      },
      "execution_count": 19,
      "outputs": [
        {
          "output_type": "execute_result",
          "data": {
            "text/plain": [
              "Empty DataFrame\n",
              "Columns: []\n",
              "Index: [(ABAETETUBA, CENTRO), (ABREU E LIMA, TIMBÓ), (ACAILANDIA, CENTRO), (ADAMANTINA, CENTRO), (AFOGADOS DA INGAZEIRA, CENTRO), (AGUAS LINDAS DE GOIAS, JARDIM QUERÊNCIA), (ALAGOINHAS, CENTRO), (ALEGRETE, CENTRO), (ALENQUER, ANINGAL), (ALFENAS, CENTRO), (ALMIRANTE TAMANDARE, CACHOEIRA), (ALTA FLORESTA, CENTRO), (ALTAMIRA, APARECIDA), (ALTO BELA VISTA, ALTO BELA VISTA), (ALTO PARAGUAI, BAIRRO BELA VISTA), (ALVORADA, CENTRO), (AMERICANA, CENTRO), (AMPARO, CENTRO), (ANANINDEUA, COQUEIRO), (ANAPOLIS, CENTRO), (ANGRA DOS REIS, CENTRO), (ANTONIO DIAS, CENTRO), (APARECIDA DE GOIANIA, GARAVELO), (APIAI, CENTRO), (APIUNA, CENTRO), (APUCARANA, CENTRO), (ARACAJU, CENTRO), (ARACATUBA, CENTRO), (ARACRUZ, DE CARLI), (ARAGUAINA, CENTRO), (ARAGUARI, CENTRO), (ARAPIRACA, CENTRO), (ARAPONGAS, CENTRO), (ARARANGUA, CENTRO), (ARARAQUARA, CENTRO), (ARARAS, CENTRO), (ARARIPINA, CENTRO), (ARARUAMA, CENTRO), (ARAUCARIA, CENTRO), (ARAXA, CENTRO), (ARCOVERDE, SÃO CRISTÓVÃO), (ARENAPOLIS, BOLIVIA), (ARIQUEMES, SETOR 03), (ARMACAO DOS BUZIOS, CENTRO), (ARROIO GRANDE, CENTRO), (ASSIS, CENTRO), (ASSIS CHATEAUBRIAND, CENTRO), (ATIBAIA, CENTRO), (AVAI, ZONA RURAL), (AVARE, CENTRO), (BACABAL, CENTRO), (BAGE, CENTRO), (BAIXA GRANDE DO RIBEIRO, ZONA RURAL), (BALNEARIO CAMBORIU, CENTRO), (BALSAS, POTOSI), (BARAO DE COCAIS, SAO JOSE), (BARBACENA, CENTRO), (BARRA, ZONA SUBURBANA), (BARRA DE SAO FRANCISCO, CENTRO), (BARRA DO CORDA, TRESIDELA), (BARRA DO PIRAI, CENTRO), (BARRA MANSA, CENTRO), (BARRAS, CENTRO), (BARREIRAS, CENTRO), (BARRETOS, CENTRO), (BARUERI, ALPHAVILLE), (BAURU, CENTRO), (BAYEUX, SESI), (BEBEDOURO, CENTRO), (BEBERIBE, PARAJURU), (BELEM, MARCO), (BELFORD ROXO, CENTRO), (BELO HORIZONTE, FLORESTA), (BELO JARDIM, CENTRO), (BENTO GONCALVES, CIDADE ALTA), (BETIM, ANGOLA), (BIGUACU, CENTRO), (BIRIGUI, CENTRO), (BLUMENAU, ITOUPAVA NORTE), (BOA ESPERANCA, CENTRO), (BOA VISTA, CENTRO), (BOM CONSELHO, CENTRO), (BOM DESPACHO, CENTRO), (BOM JESUS, ZONA RURAL), (BOTUCATU, CENTRO), (BRAGANCA, TREVO), (BRAGANCA PAULISTA, CENTRO), (BRASILIA, ASA SUL), (BREVES, CENTRO), (BRUMADO, DR. JURACY), (BRUSQUE, CENTRO), (BUERAREMA, CENTRO), (CABEDELO, BESSA), (CABO DE SANTO AGOSTINHO, DISTRITO INDUSTRIAL), (CABO FRIO, CENTRO), (CACADOR, CENTRO), (CACAPAVA, CENTRO), (CACAPAVA DO SUL, CENTRO), (CACERES, CENTRO), (CACHOEIRA DO SUL, CENTRO), ...]\n",
              "\n",
              "[616 rows x 0 columns]"
            ],
            "text/html": [
              "\n",
              "  <div id=\"df-330dcff0-951a-43e9-875a-b945b90d0422\">\n",
              "    <div class=\"colab-df-container\">\n",
              "      <div>\n",
              "<style scoped>\n",
              "    .dataframe tbody tr th:only-of-type {\n",
              "        vertical-align: middle;\n",
              "    }\n",
              "\n",
              "    .dataframe tbody tr th {\n",
              "        vertical-align: top;\n",
              "    }\n",
              "\n",
              "    .dataframe thead th {\n",
              "        text-align: right;\n",
              "    }\n",
              "</style>\n",
              "<table border=\"1\" class=\"dataframe\">\n",
              "  <thead>\n",
              "    <tr style=\"text-align: right;\">\n",
              "      <th></th>\n",
              "      <th></th>\n",
              "    </tr>\n",
              "    <tr>\n",
              "      <th>Municipio</th>\n",
              "      <th>Bairro</th>\n",
              "    </tr>\n",
              "  </thead>\n",
              "  <tbody>\n",
              "    <tr>\n",
              "      <th>ABAETETUBA</th>\n",
              "      <th>CENTRO</th>\n",
              "    </tr>\n",
              "    <tr>\n",
              "      <th>ABREU E LIMA</th>\n",
              "      <th>TIMBÓ</th>\n",
              "    </tr>\n",
              "    <tr>\n",
              "      <th>ACAILANDIA</th>\n",
              "      <th>CENTRO</th>\n",
              "    </tr>\n",
              "    <tr>\n",
              "      <th>ADAMANTINA</th>\n",
              "      <th>CENTRO</th>\n",
              "    </tr>\n",
              "    <tr>\n",
              "      <th>AFOGADOS DA INGAZEIRA</th>\n",
              "      <th>CENTRO</th>\n",
              "    </tr>\n",
              "    <tr>\n",
              "      <th>...</th>\n",
              "      <th>...</th>\n",
              "    </tr>\n",
              "    <tr>\n",
              "      <th>VOTORANTIM</th>\n",
              "      <th>CENTRO</th>\n",
              "    </tr>\n",
              "    <tr>\n",
              "      <th>VOTUPORANGA</th>\n",
              "      <th>JARDIM ALVORADA</th>\n",
              "    </tr>\n",
              "    <tr>\n",
              "      <th>XANXERE</th>\n",
              "      <th>CENTRO</th>\n",
              "    </tr>\n",
              "    <tr>\n",
              "      <th>XAPURI</th>\n",
              "      <th>CENTRO</th>\n",
              "    </tr>\n",
              "    <tr>\n",
              "      <th>XINGUARA</th>\n",
              "      <th>CENTRO</th>\n",
              "    </tr>\n",
              "  </tbody>\n",
              "</table>\n",
              "<p>616 rows × 0 columns</p>\n",
              "</div>\n",
              "      <button class=\"colab-df-convert\" onclick=\"convertToInteractive('df-330dcff0-951a-43e9-875a-b945b90d0422')\"\n",
              "              title=\"Convert this dataframe to an interactive table.\"\n",
              "              style=\"display:none;\">\n",
              "        \n",
              "  <svg xmlns=\"http://www.w3.org/2000/svg\" height=\"24px\"viewBox=\"0 0 24 24\"\n",
              "       width=\"24px\">\n",
              "    <path d=\"M0 0h24v24H0V0z\" fill=\"none\"/>\n",
              "    <path d=\"M18.56 5.44l.94 2.06.94-2.06 2.06-.94-2.06-.94-.94-2.06-.94 2.06-2.06.94zm-11 1L8.5 8.5l.94-2.06 2.06-.94-2.06-.94L8.5 2.5l-.94 2.06-2.06.94zm10 10l.94 2.06.94-2.06 2.06-.94-2.06-.94-.94-2.06-.94 2.06-2.06.94z\"/><path d=\"M17.41 7.96l-1.37-1.37c-.4-.4-.92-.59-1.43-.59-.52 0-1.04.2-1.43.59L10.3 9.45l-7.72 7.72c-.78.78-.78 2.05 0 2.83L4 21.41c.39.39.9.59 1.41.59.51 0 1.02-.2 1.41-.59l7.78-7.78 2.81-2.81c.8-.78.8-2.07 0-2.86zM5.41 20L4 18.59l7.72-7.72 1.47 1.35L5.41 20z\"/>\n",
              "  </svg>\n",
              "      </button>\n",
              "      \n",
              "  <style>\n",
              "    .colab-df-container {\n",
              "      display:flex;\n",
              "      flex-wrap:wrap;\n",
              "      gap: 12px;\n",
              "    }\n",
              "\n",
              "    .colab-df-convert {\n",
              "      background-color: #E8F0FE;\n",
              "      border: none;\n",
              "      border-radius: 50%;\n",
              "      cursor: pointer;\n",
              "      display: none;\n",
              "      fill: #1967D2;\n",
              "      height: 32px;\n",
              "      padding: 0 0 0 0;\n",
              "      width: 32px;\n",
              "    }\n",
              "\n",
              "    .colab-df-convert:hover {\n",
              "      background-color: #E2EBFA;\n",
              "      box-shadow: 0px 1px 2px rgba(60, 64, 67, 0.3), 0px 1px 3px 1px rgba(60, 64, 67, 0.15);\n",
              "      fill: #174EA6;\n",
              "    }\n",
              "\n",
              "    [theme=dark] .colab-df-convert {\n",
              "      background-color: #3B4455;\n",
              "      fill: #D2E3FC;\n",
              "    }\n",
              "\n",
              "    [theme=dark] .colab-df-convert:hover {\n",
              "      background-color: #434B5C;\n",
              "      box-shadow: 0px 1px 3px 1px rgba(0, 0, 0, 0.15);\n",
              "      filter: drop-shadow(0px 1px 2px rgba(0, 0, 0, 0.3));\n",
              "      fill: #FFFFFF;\n",
              "    }\n",
              "  </style>\n",
              "\n",
              "      <script>\n",
              "        const buttonEl =\n",
              "          document.querySelector('#df-330dcff0-951a-43e9-875a-b945b90d0422 button.colab-df-convert');\n",
              "        buttonEl.style.display =\n",
              "          google.colab.kernel.accessAllowed ? 'block' : 'none';\n",
              "\n",
              "        async function convertToInteractive(key) {\n",
              "          const element = document.querySelector('#df-330dcff0-951a-43e9-875a-b945b90d0422');\n",
              "          const dataTable =\n",
              "            await google.colab.kernel.invokeFunction('convertToInteractive',\n",
              "                                                     [key], {});\n",
              "          if (!dataTable) return;\n",
              "\n",
              "          const docLinkHtml = 'Like what you see? Visit the ' +\n",
              "            '<a target=\"_blank\" href=https://colab.research.google.com/notebooks/data_table.ipynb>data table notebook</a>'\n",
              "            + ' to learn more about interactive tables.';\n",
              "          element.innerHTML = '';\n",
              "          dataTable['output_type'] = 'display_data';\n",
              "          await google.colab.output.renderOutput(dataTable, element);\n",
              "          const docLink = document.createElement('div');\n",
              "          docLink.innerHTML = docLinkHtml;\n",
              "          element.appendChild(docLink);\n",
              "        }\n",
              "      </script>\n",
              "    </div>\n",
              "  </div>\n",
              "  "
            ]
          },
          "metadata": {},
          "execution_count": 19
        }
      ]
    },
    {
      "cell_type": "code",
      "source": [
        "for x in teste['Municipio'].unique():\n",
        "  for c in teste.index:\n",
        "    if pd.isnull(teste['Bairro'][c]):\n",
        "      if teste['Municipio'][c] == x:\n",
        "        teste['Bairro'][c] = filtrando.loc[x]\n",
        "      \n",
        "    else:\n",
        "      continue"
      ],
      "metadata": {
        "colab": {
          "base_uri": "https://localhost:8080/",
          "height": 375
        },
        "id": "zw6ub0vnwH6h",
        "outputId": "7643de72-0361-4c92-9f4b-8d8d5cb54337"
      },
      "execution_count": 36,
      "outputs": [
        {
          "output_type": "error",
          "ename": "ValueError",
          "evalue": "ignored",
          "traceback": [
            "\u001b[0;31m---------------------------------------------------------------------------\u001b[0m",
            "\u001b[0;31mValueError\u001b[0m                                Traceback (most recent call last)",
            "\u001b[0;32m<ipython-input-36-727dabf04dc5>\u001b[0m in \u001b[0;36m<module>\u001b[0;34m\u001b[0m\n\u001b[1;32m      1\u001b[0m \u001b[0;32mfor\u001b[0m \u001b[0mx\u001b[0m \u001b[0;32min\u001b[0m \u001b[0mteste\u001b[0m\u001b[0;34m[\u001b[0m\u001b[0;34m'Municipio'\u001b[0m\u001b[0;34m]\u001b[0m\u001b[0;34m.\u001b[0m\u001b[0munique\u001b[0m\u001b[0;34m(\u001b[0m\u001b[0;34m)\u001b[0m\u001b[0;34m:\u001b[0m\u001b[0;34m\u001b[0m\u001b[0;34m\u001b[0m\u001b[0m\n\u001b[1;32m      2\u001b[0m   \u001b[0;32mfor\u001b[0m \u001b[0mc\u001b[0m \u001b[0;32min\u001b[0m \u001b[0mteste\u001b[0m\u001b[0;34m.\u001b[0m\u001b[0mindex\u001b[0m\u001b[0;34m:\u001b[0m\u001b[0;34m\u001b[0m\u001b[0;34m\u001b[0m\u001b[0m\n\u001b[0;32m----> 3\u001b[0;31m     \u001b[0;32mif\u001b[0m \u001b[0mpd\u001b[0m\u001b[0;34m.\u001b[0m\u001b[0misnull\u001b[0m\u001b[0;34m(\u001b[0m\u001b[0mteste\u001b[0m\u001b[0;34m[\u001b[0m\u001b[0;34m'Bairro'\u001b[0m\u001b[0;34m]\u001b[0m\u001b[0;34m[\u001b[0m\u001b[0mc\u001b[0m\u001b[0;34m]\u001b[0m\u001b[0;34m)\u001b[0m\u001b[0;34m:\u001b[0m\u001b[0;34m\u001b[0m\u001b[0;34m\u001b[0m\u001b[0m\n\u001b[0m\u001b[1;32m      4\u001b[0m       \u001b[0;32mif\u001b[0m \u001b[0mteste\u001b[0m\u001b[0;34m[\u001b[0m\u001b[0;34m'Municipio'\u001b[0m\u001b[0;34m]\u001b[0m\u001b[0;34m[\u001b[0m\u001b[0mc\u001b[0m\u001b[0;34m]\u001b[0m \u001b[0;34m==\u001b[0m \u001b[0mx\u001b[0m\u001b[0;34m:\u001b[0m\u001b[0;34m\u001b[0m\u001b[0;34m\u001b[0m\u001b[0m\n\u001b[1;32m      5\u001b[0m         \u001b[0mteste\u001b[0m\u001b[0;34m[\u001b[0m\u001b[0;34m'Bairro'\u001b[0m\u001b[0;34m]\u001b[0m\u001b[0;34m[\u001b[0m\u001b[0mc\u001b[0m\u001b[0;34m]\u001b[0m \u001b[0;34m=\u001b[0m \u001b[0mfiltrando\u001b[0m\u001b[0;34m.\u001b[0m\u001b[0mloc\u001b[0m\u001b[0;34m[\u001b[0m\u001b[0mx\u001b[0m\u001b[0;34m]\u001b[0m\u001b[0;34m\u001b[0m\u001b[0;34m\u001b[0m\u001b[0m\n",
            "\u001b[0;32m/usr/local/lib/python3.7/dist-packages/pandas/core/generic.py\u001b[0m in \u001b[0;36m__nonzero__\u001b[0;34m(self)\u001b[0m\n\u001b[1;32m   1536\u001b[0m     \u001b[0;32mdef\u001b[0m \u001b[0m__nonzero__\u001b[0m\u001b[0;34m(\u001b[0m\u001b[0mself\u001b[0m\u001b[0;34m)\u001b[0m\u001b[0;34m:\u001b[0m\u001b[0;34m\u001b[0m\u001b[0;34m\u001b[0m\u001b[0m\n\u001b[1;32m   1537\u001b[0m         raise ValueError(\n\u001b[0;32m-> 1538\u001b[0;31m             \u001b[0;34mf\"The truth value of a {type(self).__name__} is ambiguous. \"\u001b[0m\u001b[0;34m\u001b[0m\u001b[0;34m\u001b[0m\u001b[0m\n\u001b[0m\u001b[1;32m   1539\u001b[0m             \u001b[0;34m\"Use a.empty, a.bool(), a.item(), a.any() or a.all().\"\u001b[0m\u001b[0;34m\u001b[0m\u001b[0;34m\u001b[0m\u001b[0m\n\u001b[1;32m   1540\u001b[0m         )\n",
            "\u001b[0;31mValueError\u001b[0m: The truth value of a DataFrame is ambiguous. Use a.empty, a.bool(), a.item(), a.any() or a.all()."
          ]
        }
      ]
    },
    {
      "cell_type": "code",
      "source": [
        "filtrando.loc['ADAMANTINA']"
      ],
      "metadata": {
        "colab": {
          "base_uri": "https://localhost:8080/",
          "height": 95
        },
        "id": "6uOl-kNm0GKo",
        "outputId": "1aaa2f4e-fa4f-4e8b-d672-4bd102d50966"
      },
      "execution_count": 30,
      "outputs": [
        {
          "output_type": "execute_result",
          "data": {
            "text/plain": [
              "Empty DataFrame\n",
              "Columns: []\n",
              "Index: [CENTRO]"
            ],
            "text/html": [
              "\n",
              "  <div id=\"df-cd3ddef8-4490-43b4-b7d8-62e304b2dae0\">\n",
              "    <div class=\"colab-df-container\">\n",
              "      <div>\n",
              "<style scoped>\n",
              "    .dataframe tbody tr th:only-of-type {\n",
              "        vertical-align: middle;\n",
              "    }\n",
              "\n",
              "    .dataframe tbody tr th {\n",
              "        vertical-align: top;\n",
              "    }\n",
              "\n",
              "    .dataframe thead th {\n",
              "        text-align: right;\n",
              "    }\n",
              "</style>\n",
              "<table border=\"1\" class=\"dataframe\">\n",
              "  <thead>\n",
              "    <tr style=\"text-align: right;\">\n",
              "      <th></th>\n",
              "    </tr>\n",
              "    <tr>\n",
              "      <th>Bairro</th>\n",
              "    </tr>\n",
              "  </thead>\n",
              "  <tbody>\n",
              "    <tr>\n",
              "      <th>CENTRO</th>\n",
              "    </tr>\n",
              "  </tbody>\n",
              "</table>\n",
              "</div>\n",
              "      <button class=\"colab-df-convert\" onclick=\"convertToInteractive('df-cd3ddef8-4490-43b4-b7d8-62e304b2dae0')\"\n",
              "              title=\"Convert this dataframe to an interactive table.\"\n",
              "              style=\"display:none;\">\n",
              "        \n",
              "  <svg xmlns=\"http://www.w3.org/2000/svg\" height=\"24px\"viewBox=\"0 0 24 24\"\n",
              "       width=\"24px\">\n",
              "    <path d=\"M0 0h24v24H0V0z\" fill=\"none\"/>\n",
              "    <path d=\"M18.56 5.44l.94 2.06.94-2.06 2.06-.94-2.06-.94-.94-2.06-.94 2.06-2.06.94zm-11 1L8.5 8.5l.94-2.06 2.06-.94-2.06-.94L8.5 2.5l-.94 2.06-2.06.94zm10 10l.94 2.06.94-2.06 2.06-.94-2.06-.94-.94-2.06-.94 2.06-2.06.94z\"/><path d=\"M17.41 7.96l-1.37-1.37c-.4-.4-.92-.59-1.43-.59-.52 0-1.04.2-1.43.59L10.3 9.45l-7.72 7.72c-.78.78-.78 2.05 0 2.83L4 21.41c.39.39.9.59 1.41.59.51 0 1.02-.2 1.41-.59l7.78-7.78 2.81-2.81c.8-.78.8-2.07 0-2.86zM5.41 20L4 18.59l7.72-7.72 1.47 1.35L5.41 20z\"/>\n",
              "  </svg>\n",
              "      </button>\n",
              "      \n",
              "  <style>\n",
              "    .colab-df-container {\n",
              "      display:flex;\n",
              "      flex-wrap:wrap;\n",
              "      gap: 12px;\n",
              "    }\n",
              "\n",
              "    .colab-df-convert {\n",
              "      background-color: #E8F0FE;\n",
              "      border: none;\n",
              "      border-radius: 50%;\n",
              "      cursor: pointer;\n",
              "      display: none;\n",
              "      fill: #1967D2;\n",
              "      height: 32px;\n",
              "      padding: 0 0 0 0;\n",
              "      width: 32px;\n",
              "    }\n",
              "\n",
              "    .colab-df-convert:hover {\n",
              "      background-color: #E2EBFA;\n",
              "      box-shadow: 0px 1px 2px rgba(60, 64, 67, 0.3), 0px 1px 3px 1px rgba(60, 64, 67, 0.15);\n",
              "      fill: #174EA6;\n",
              "    }\n",
              "\n",
              "    [theme=dark] .colab-df-convert {\n",
              "      background-color: #3B4455;\n",
              "      fill: #D2E3FC;\n",
              "    }\n",
              "\n",
              "    [theme=dark] .colab-df-convert:hover {\n",
              "      background-color: #434B5C;\n",
              "      box-shadow: 0px 1px 3px 1px rgba(0, 0, 0, 0.15);\n",
              "      filter: drop-shadow(0px 1px 2px rgba(0, 0, 0, 0.3));\n",
              "      fill: #FFFFFF;\n",
              "    }\n",
              "  </style>\n",
              "\n",
              "      <script>\n",
              "        const buttonEl =\n",
              "          document.querySelector('#df-cd3ddef8-4490-43b4-b7d8-62e304b2dae0 button.colab-df-convert');\n",
              "        buttonEl.style.display =\n",
              "          google.colab.kernel.accessAllowed ? 'block' : 'none';\n",
              "\n",
              "        async function convertToInteractive(key) {\n",
              "          const element = document.querySelector('#df-cd3ddef8-4490-43b4-b7d8-62e304b2dae0');\n",
              "          const dataTable =\n",
              "            await google.colab.kernel.invokeFunction('convertToInteractive',\n",
              "                                                     [key], {});\n",
              "          if (!dataTable) return;\n",
              "\n",
              "          const docLinkHtml = 'Like what you see? Visit the ' +\n",
              "            '<a target=\"_blank\" href=https://colab.research.google.com/notebooks/data_table.ipynb>data table notebook</a>'\n",
              "            + ' to learn more about interactive tables.';\n",
              "          element.innerHTML = '';\n",
              "          dataTable['output_type'] = 'display_data';\n",
              "          await google.colab.output.renderOutput(dataTable, element);\n",
              "          const docLink = document.createElement('div');\n",
              "          docLink.innerHTML = docLinkHtml;\n",
              "          element.appendChild(docLink);\n",
              "        }\n",
              "      </script>\n",
              "    </div>\n",
              "  </div>\n",
              "  "
            ]
          },
          "metadata": {},
          "execution_count": 30
        }
      ]
    },
    {
      "cell_type": "code",
      "source": [],
      "metadata": {
        "id": "CmwNv2-thMKm"
      },
      "execution_count": null,
      "outputs": []
    },
    {
      "cell_type": "code",
      "source": [],
      "metadata": {
        "id": "euHiBXQVIfst"
      },
      "execution_count": null,
      "outputs": []
    }
  ]
}