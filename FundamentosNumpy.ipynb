{
  "nbformat": 4,
  "nbformat_minor": 0,
  "metadata": {
    "colab": {
      "name": "FundamentosNumpy.ipynb",
      "provenance": []
    },
    "kernelspec": {
      "name": "python3",
      "display_name": "Python 3"
    },
    "language_info": {
      "name": "python"
    }
  },
  "cells": [
    {
      "cell_type": "code",
      "execution_count": 1,
      "metadata": {
        "id": "-cumufB7ELiE"
      },
      "outputs": [],
      "source": [
        "import numpy as np"
      ]
    },
    {
      "cell_type": "code",
      "source": [
        "a = np.array([0,1,2,3])\n",
        "a"
      ],
      "metadata": {
        "colab": {
          "base_uri": "https://localhost:8080/"
        },
        "id": "2O2K_laXEO95",
        "outputId": "7c05ca91-f86b-4205-bc3b-930031563523"
      },
      "execution_count": 2,
      "outputs": [
        {
          "output_type": "execute_result",
          "data": {
            "text/plain": [
              "array([0, 1, 2, 3])"
            ]
          },
          "metadata": {},
          "execution_count": 2
        }
      ]
    },
    {
      "cell_type": "code",
      "source": [
        "print(a)"
      ],
      "metadata": {
        "colab": {
          "base_uri": "https://localhost:8080/"
        },
        "id": "mBIzeOkPE_k4",
        "outputId": "8c0f8ea1-a7cb-40f2-852c-cfe8bbce6159"
      },
      "execution_count": 3,
      "outputs": [
        {
          "output_type": "stream",
          "name": "stdout",
          "text": [
            "[0 1 2 3]\n"
          ]
        }
      ]
    },
    {
      "cell_type": "code",
      "source": [
        "print(type(a))"
      ],
      "metadata": {
        "colab": {
          "base_uri": "https://localhost:8080/"
        },
        "id": "kDGQb11tFBFY",
        "outputId": "510e49a8-1be3-40b3-d1d3-fc0278eb2e90"
      },
      "execution_count": 4,
      "outputs": [
        {
          "output_type": "stream",
          "name": "stdout",
          "text": [
            "<class 'numpy.ndarray'>\n"
          ]
        }
      ]
    },
    {
      "cell_type": "code",
      "source": [
        "#se fizer sem o segundo colchete dá erro\n",
        "b = np.array([[0,1,2], [3,4,5]])\n",
        "print(b)\n",
        "print(b.ndim)\n",
        "#primeira dimensão = linhas\n",
        "#segunda dimensão = colunas"
      ],
      "metadata": {
        "colab": {
          "base_uri": "https://localhost:8080/"
        },
        "id": "nkWftFLHFDZ6",
        "outputId": "845da0ec-284b-4091-90f1-edc0a1fb89f7"
      },
      "execution_count": 8,
      "outputs": [
        {
          "output_type": "stream",
          "name": "stdout",
          "text": [
            "[[0 1 2]\n",
            " [3 4 5]]\n",
            "2\n"
          ]
        }
      ]
    },
    {
      "cell_type": "code",
      "source": [
        "print(b.shape)"
      ],
      "metadata": {
        "colab": {
          "base_uri": "https://localhost:8080/"
        },
        "id": "sE7B3V_yHJ3I",
        "outputId": "8d783aa6-635f-4183-a372-a360c4b3bd6b"
      },
      "execution_count": 11,
      "outputs": [
        {
          "output_type": "stream",
          "name": "stdout",
          "text": [
            "(2, 3)\n"
          ]
        }
      ]
    },
    {
      "cell_type": "code",
      "source": [
        "print(len(b))\n",
        "#retorna apenas o número da primeira dimensão, no caso, linhas"
      ],
      "metadata": {
        "colab": {
          "base_uri": "https://localhost:8080/"
        },
        "id": "UftBuBaIHoN6",
        "outputId": "960b784c-0ffd-4bc5-abac-0452e6e6ed92"
      },
      "execution_count": 12,
      "outputs": [
        {
          "output_type": "stream",
          "name": "stdout",
          "text": [
            "2\n"
          ]
        }
      ]
    },
    {
      "cell_type": "markdown",
      "source": [
        "Criando Utilização de funções pelo NP"
      ],
      "metadata": {
        "id": "vWzCxglFI1Jl"
      }
    },
    {
      "cell_type": "code",
      "source": [
        "#similar ao range do python (for)\n",
        "c = np.arange(0,91,1)\n",
        "\n",
        "print(c)"
      ],
      "metadata": {
        "colab": {
          "base_uri": "https://localhost:8080/"
        },
        "id": "n1g94653HqAp",
        "outputId": "ae074532-890b-463b-d15b-c0535d40c496"
      },
      "execution_count": 14,
      "outputs": [
        {
          "output_type": "stream",
          "name": "stdout",
          "text": [
            "[ 0  1  2  3  4  5  6  7  8  9 10 11 12 13 14 15 16 17 18 19 20 21 22 23\n",
            " 24 25 26 27 28 29 30 31 32 33 34 35 36 37 38 39 40 41 42 43 44 45 46 47\n",
            " 48 49 50 51 52 53 54 55 56 57 58 59 60 61 62 63 64 65 66 67 68 69 70 71\n",
            " 72 73 74 75 76 77 78 79 80 81 82 83 84 85 86 87 88 89 90]\n"
          ]
        }
      ]
    },
    {
      "cell_type": "code",
      "source": [
        "#o linspace, pode ser entendido como, o ponto inicial, o ponto final e, o último, a quantidade de elementos entre existente entre o inicial e o final\n",
        "#nessa abordagem, o inicial e final, também entram na contagem da quantidade de elementos.\n",
        "#ainda pode existir uma quarta casa: \"endpoint=False\", que excluirá o ponto final, igual o arangue e o range.\n",
        "d = np.linspace(1,10,6)\n",
        "print(d)"
      ],
      "metadata": {
        "colab": {
          "base_uri": "https://localhost:8080/"
        },
        "id": "gAdUzYmrJCGN",
        "outputId": "97f8d1c7-f119-4cf3-f881-2545eef275ae"
      },
      "execution_count": 19,
      "outputs": [
        {
          "output_type": "stream",
          "name": "stdout",
          "text": [
            "[ 1.   2.8  4.6  6.4  8.2 10. ]\n"
          ]
        }
      ]
    },
    {
      "cell_type": "markdown",
      "source": [
        "Arrays comuns"
      ],
      "metadata": {
        "id": "LczeSfacLxy4"
      }
    },
    {
      "cell_type": "code",
      "source": [
        "#array de 1, é preciso indicar dentro dos parênteses a qutde\n",
        "e = np.ones(10)\n",
        "print(e)"
      ],
      "metadata": {
        "colab": {
          "base_uri": "https://localhost:8080/"
        },
        "id": "CjyYdQrIKW9l",
        "outputId": "c7fa6a88-13b3-438d-bbeb-dc93c8591de1"
      },
      "execution_count": 24,
      "outputs": [
        {
          "output_type": "stream",
          "name": "stdout",
          "text": [
            "[1. 1. 1. 1. 1. 1. 1. 1. 1. 1.]\n"
          ]
        }
      ]
    },
    {
      "cell_type": "code",
      "source": [
        "#criando uma array bidimensional\n",
        "f = np.ones((2,3))\n",
        "\n",
        "print(f)"
      ],
      "metadata": {
        "colab": {
          "base_uri": "https://localhost:8080/"
        },
        "id": "w6Mbuv60L3Y8",
        "outputId": "198d94da-9925-4fbb-a90f-d3cce68eb64a"
      },
      "execution_count": 26,
      "outputs": [
        {
          "output_type": "stream",
          "name": "stdout",
          "text": [
            "[[1. 1. 1.]\n",
            " [1. 1. 1.]]\n"
          ]
        }
      ]
    },
    {
      "cell_type": "code",
      "source": [
        "#o \"ones\", pode ser substituido por zero, segue o exemplo:\n",
        "g = np.zeros(10)\n",
        "print(g)"
      ],
      "metadata": {
        "colab": {
          "base_uri": "https://localhost:8080/"
        },
        "id": "O0OmGjClMLf4",
        "outputId": "36c32c07-92be-4b00-cfc9-bf4bdbe37bba"
      },
      "execution_count": 32,
      "outputs": [
        {
          "output_type": "stream",
          "name": "stdout",
          "text": [
            "[0. 0. 0. 0. 0. 0. 0. 0. 0. 0.]\n"
          ]
        }
      ]
    },
    {
      "cell_type": "code",
      "source": [
        "#matriz de números aleatórios\n",
        "\n",
        "h = np.random.rand(4) #acessando o random, uma das funções ali é o rand, que escolherá números entre 0 e 1\n",
        "print(h)\n",
        "#aqui tbem, não precisa colocar um segundo parênteses tipo shape"
      ],
      "metadata": {
        "colab": {
          "base_uri": "https://localhost:8080/"
        },
        "id": "P2eicQZVMg1k",
        "outputId": "96a2e6d9-4049-49eb-ccd3-c343e40a9721"
      },
      "execution_count": 36,
      "outputs": [
        {
          "output_type": "stream",
          "name": "stdout",
          "text": [
            "[0.58815763 0.96104378 0.95319147 0.96799998]\n"
          ]
        }
      ]
    },
    {
      "cell_type": "code",
      "source": [
        "#matriz diagonal pela expressao eye\n",
        "i = np.eye(3) #o numero dentro dos parênteses indica a qtde de numeros 1 na diagonal\n",
        "print(i)"
      ],
      "metadata": {
        "colab": {
          "base_uri": "https://localhost:8080/"
        },
        "id": "tIQ7wwbIM8Tr",
        "outputId": "4761daac-e832-49b0-99a6-da9b037f57f8"
      },
      "execution_count": 39,
      "outputs": [
        {
          "output_type": "stream",
          "name": "stdout",
          "text": [
            "[[1. 0. 0.]\n",
            " [0. 1. 0.]\n",
            " [0. 0. 1.]]\n"
          ]
        }
      ]
    },
    {
      "cell_type": "code",
      "source": [
        "j = np.diag(np.array([1,2,3,4]))\n",
        "print(j)"
      ],
      "metadata": {
        "colab": {
          "base_uri": "https://localhost:8080/"
        },
        "id": "u6SpMEbON3ly",
        "outputId": "b2fe49c8-07af-4ebe-c38e-69b3915dd0ae"
      },
      "execution_count": 40,
      "outputs": [
        {
          "output_type": "stream",
          "name": "stdout",
          "text": [
            "[[1 0 0 0]\n",
            " [0 2 0 0]\n",
            " [0 0 3 0]\n",
            " [0 0 0 4]]\n"
          ]
        }
      ]
    },
    {
      "cell_type": "markdown",
      "source": [
        "Exercícios"
      ],
      "metadata": {
        "id": "A06YKJKAOZhd"
      }
    },
    {
      "cell_type": "code",
      "source": [
        "#Criar uma matriz identidade com dimensão 5 x 5:\n",
        "#matriz identidade é quando a diagonal são todas iguais a 1"
      ],
      "metadata": {
        "id": "GDM1SrsxONR_"
      },
      "execution_count": 46,
      "outputs": []
    },
    {
      "cell_type": "code",
      "source": [
        "identidade = np.eye(5)\n",
        "print(identidade)"
      ],
      "metadata": {
        "colab": {
          "base_uri": "https://localhost:8080/"
        },
        "id": "BM0hbuxkRwLD",
        "outputId": "77700dcd-3a4e-4d47-a291-003adce01634"
      },
      "execution_count": 47,
      "outputs": [
        {
          "output_type": "stream",
          "name": "stdout",
          "text": [
            "[[1. 0. 0. 0. 0.]\n",
            " [0. 1. 0. 0. 0.]\n",
            " [0. 0. 1. 0. 0.]\n",
            " [0. 0. 0. 1. 0.]\n",
            " [0. 0. 0. 0. 1.]]\n"
          ]
        }
      ]
    },
    {
      "cell_type": "code",
      "source": [
        "#Crie uma matriz 3 x 3 com todos os elementos iguais a 1"
      ],
      "metadata": {
        "id": "scs0ILOKOqdF"
      },
      "execution_count": 48,
      "outputs": []
    },
    {
      "cell_type": "code",
      "source": [
        "iguais = np.ones((3,3))\n",
        "print(iguais)"
      ],
      "metadata": {
        "colab": {
          "base_uri": "https://localhost:8080/"
        },
        "id": "hETy8cnLOwPl",
        "outputId": "5fe53c96-0a1f-48e2-f9d3-8a902cf38a71"
      },
      "execution_count": 49,
      "outputs": [
        {
          "output_type": "stream",
          "name": "stdout",
          "text": [
            "[[1. 1. 1.]\n",
            " [1. 1. 1.]\n",
            " [1. 1. 1.]]\n"
          ]
        }
      ]
    },
    {
      "cell_type": "code",
      "source": [
        "#crie uma matriz 2 x 3 com elementos de valores aleatórios entre 0 a 20"
      ],
      "metadata": {
        "id": "zJ4t9OBNOw25"
      },
      "execution_count": 43,
      "outputs": []
    },
    {
      "cell_type": "code",
      "source": [
        "#a primeira casa vem o limite de 20, e o bidimensional vem por meio do size.\n",
        "aleatorio = np.random.randint(20, size=(2,3))\n",
        "print(aleatorio)"
      ],
      "metadata": {
        "colab": {
          "base_uri": "https://localhost:8080/"
        },
        "id": "Gz_5pWpvO5Ar",
        "outputId": "9d4cac12-6ff6-454f-809c-e02ece7ca481"
      },
      "execution_count": 58,
      "outputs": [
        {
          "output_type": "stream",
          "name": "stdout",
          "text": [
            "[[ 0 14 12]\n",
            " [ 3  6 13]]\n"
          ]
        }
      ]
    },
    {
      "cell_type": "code",
      "source": [
        "#crie um vetor :[9,8,7,6,5,4,3,2,1]"
      ],
      "metadata": {
        "id": "0w-JnsvVO5oi"
      },
      "execution_count": 44,
      "outputs": []
    },
    {
      "cell_type": "code",
      "source": [
        "inverso = np.arange(9, 0, -1)\n",
        "print(inverso)"
      ],
      "metadata": {
        "colab": {
          "base_uri": "https://localhost:8080/"
        },
        "id": "WJTbcEUkO_9H",
        "outputId": "e3520a23-4078-4839-bde4-c13aa73f1e15"
      },
      "execution_count": 61,
      "outputs": [
        {
          "output_type": "stream",
          "name": "stdout",
          "text": [
            "[9 8 7 6 5 4 3 2 1]\n"
          ]
        }
      ]
    },
    {
      "cell_type": "markdown",
      "source": [
        "Fim dos primeiros exercícios"
      ],
      "metadata": {
        "id": "aq76G6ewWYbk"
      }
    },
    {
      "cell_type": "markdown",
      "source": [
        "# Indexação e cortes (Slices) de arrays"
      ],
      "metadata": {
        "id": "6nmZLd0qWl40"
      }
    },
    {
      "cell_type": "code",
      "source": [
        "aa = np.arange(10,20)\n",
        "print(aa)\n",
        "print('Acessando um elemento dentro da lista aa')\n",
        "aa[1]"
      ],
      "metadata": {
        "colab": {
          "base_uri": "https://localhost:8080/"
        },
        "id": "RXacODG0U6zf",
        "outputId": "890b0f4b-6e87-4ba9-e073-8f8b2defcac2"
      },
      "execution_count": 68,
      "outputs": [
        {
          "output_type": "stream",
          "name": "stdout",
          "text": [
            "[10 11 12 13 14 15 16 17 18 19]\n",
            "Acessando um elemento dentro da lista aa\n"
          ]
        },
        {
          "output_type": "execute_result",
          "data": {
            "text/plain": [
              "11"
            ]
          },
          "metadata": {},
          "execution_count": 68
        }
      ]
    },
    {
      "cell_type": "code",
      "source": [
        "bb = np.random.rand(5,5)\n",
        "\n",
        "print(bb)\n",
        "print(30*'-=')\n",
        "print('Com bb[0], vai puxar a primeira linha inteira')\n",
        "bb[0]# pelo shape, o np identifica apenas linha e coluna, assim, quando digitado a linha sem especificar a coluna, a resposta será a linha inteira.\n",
        "print(30*'-=')\n",
        "print('incluindo o número depois da virgula, está especificando qual coluna será retirada o valor da linha [0,3]')\n",
        "bb[0,3]"
      ],
      "metadata": {
        "colab": {
          "base_uri": "https://localhost:8080/"
        },
        "id": "0negPaAsWbZB",
        "outputId": "413db3fa-97a2-427a-b7b9-6c1f34aa0506"
      },
      "execution_count": 73,
      "outputs": [
        {
          "output_type": "stream",
          "name": "stdout",
          "text": [
            "[[0.99536488 0.34174416 0.17893583 0.88016232 0.309799  ]\n",
            " [0.16043152 0.76095812 0.1929859  0.32593654 0.99534443]\n",
            " [0.86936601 0.67790554 0.48632583 0.65357447 0.4817373 ]\n",
            " [0.74591124 0.08454993 0.2865407  0.30289044 0.22837966]\n",
            " [0.61856564 0.10935669 0.97189463 0.5734396  0.47651897]]\n",
            "-=-=-=-=-=-=-=-=-=-=-=-=-=-=-=-=-=-=-=-=-=-=-=-=-=-=-=-=-=-=\n",
            "Com bb[0], vai puxar a primeira linha inteira\n",
            "-=-=-=-=-=-=-=-=-=-=-=-=-=-=-=-=-=-=-=-=-=-=-=-=-=-=-=-=-=-=\n",
            "incluindo o número depois da virgula, está especificando qual coluna será retirada o valor da linha [0,3]\n"
          ]
        },
        {
          "output_type": "execute_result",
          "data": {
            "text/plain": [
              "0.8801623154927809"
            ]
          },
          "metadata": {},
          "execution_count": 73
        }
      ]
    },
    {
      "cell_type": "code",
      "source": [
        "#alterando um valor\n",
        "print(bb)\n",
        "bb[0,1] = 2"
      ],
      "metadata": {
        "colab": {
          "base_uri": "https://localhost:8080/"
        },
        "id": "FmRQ4Os2YKSa",
        "outputId": "d34b1783-272b-4e16-e63c-d133b8b9d252"
      },
      "execution_count": 78,
      "outputs": [
        {
          "output_type": "stream",
          "name": "stdout",
          "text": [
            "[[0.99536488 0.34174416 0.17893583 0.88016232 0.309799  ]\n",
            " [0.16043152 0.76095812 0.1929859  0.32593654 0.99534443]\n",
            " [0.86936601 0.67790554 0.48632583 0.65357447 0.4817373 ]\n",
            " [0.74591124 0.08454993 0.2865407  0.30289044 0.22837966]\n",
            " [0.61856564 0.10935669 0.97189463 0.5734396  0.47651897]]\n"
          ]
        }
      ]
    },
    {
      "cell_type": "code",
      "source": [
        "#o valor da linha 0, coluna 1\n",
        "print(bb)"
      ],
      "metadata": {
        "colab": {
          "base_uri": "https://localhost:8080/"
        },
        "id": "oIlFvO43Z6ua",
        "outputId": "bc2315c3-9386-4027-8493-561e5cb16e83"
      },
      "execution_count": 80,
      "outputs": [
        {
          "output_type": "stream",
          "name": "stdout",
          "text": [
            "[[0.99536488 2.         0.17893583 0.88016232 0.309799  ]\n",
            " [0.16043152 0.76095812 0.1929859  0.32593654 0.99534443]\n",
            " [0.86936601 0.67790554 0.48632583 0.65357447 0.4817373 ]\n",
            " [0.74591124 0.08454993 0.2865407  0.30289044 0.22837966]\n",
            " [0.61856564 0.10935669 0.97189463 0.5734396  0.47651897]]\n"
          ]
        }
      ]
    },
    {
      "cell_type": "code",
      "source": [
        "#unidimensional\n",
        "print(aa)"
      ],
      "metadata": {
        "colab": {
          "base_uri": "https://localhost:8080/"
        },
        "id": "PJ__8o6taDIb",
        "outputId": "55d1148f-d628-4bb6-fa61-9497ad78311e"
      },
      "execution_count": 83,
      "outputs": [
        {
          "output_type": "stream",
          "name": "stdout",
          "text": [
            "[10 11 12 13 14 15 16 17 18 19]\n"
          ]
        }
      ]
    },
    {
      "cell_type": "code",
      "source": [
        "#slices de um vetor unidimensional\n",
        "print(aa[2:5])"
      ],
      "metadata": {
        "colab": {
          "base_uri": "https://localhost:8080/"
        },
        "id": "fsN91RF7anC6",
        "outputId": "4b0474ff-f803-4890-b767-03f4ac81513c"
      },
      "execution_count": 84,
      "outputs": [
        {
          "output_type": "stream",
          "name": "stdout",
          "text": [
            "[12 13 14]\n"
          ]
        }
      ]
    },
    {
      "cell_type": "code",
      "source": [
        "print(bb)"
      ],
      "metadata": {
        "colab": {
          "base_uri": "https://localhost:8080/"
        },
        "id": "GeZ41kkGarFo",
        "outputId": "c4e632a5-0d60-4455-f481-7249a00e3a61"
      },
      "execution_count": 85,
      "outputs": [
        {
          "output_type": "stream",
          "name": "stdout",
          "text": [
            "[[0.99536488 2.         0.17893583 0.88016232 0.309799  ]\n",
            " [0.16043152 0.76095812 0.1929859  0.32593654 0.99534443]\n",
            " [0.86936601 0.67790554 0.48632583 0.65357447 0.4817373 ]\n",
            " [0.74591124 0.08454993 0.2865407  0.30289044 0.22837966]\n",
            " [0.61856564 0.10935669 0.97189463 0.5734396  0.47651897]]\n"
          ]
        }
      ]
    },
    {
      "cell_type": "code",
      "source": [
        "#slices de linhas\n",
        "print(bb[0:2])"
      ],
      "metadata": {
        "colab": {
          "base_uri": "https://localhost:8080/"
        },
        "id": "MrWhg5s2bKnF",
        "outputId": "961fdf9c-dd2b-4ff4-cd8a-42d1edd8ba0e"
      },
      "execution_count": 86,
      "outputs": [
        {
          "output_type": "stream",
          "name": "stdout",
          "text": [
            "[[0.99536488 2.         0.17893583 0.88016232 0.309799  ]\n",
            " [0.16043152 0.76095812 0.1929859  0.32593654 0.99534443]]\n"
          ]
        }
      ]
    },
    {
      "cell_type": "code",
      "source": [
        "#cortando as linhas com colunas, para tanto, depois de ter cortado as linhas, basta inserir uma vírgula, que após ela, estará fazendo referencia a colunas\n",
        "\n",
        "print(bb[0:2, 2])"
      ],
      "metadata": {
        "colab": {
          "base_uri": "https://localhost:8080/"
        },
        "id": "pORNj5FGbb9D",
        "outputId": "6401f54d-4f87-4094-930f-8dbf22447c5b"
      },
      "execution_count": 89,
      "outputs": [
        {
          "output_type": "stream",
          "name": "stdout",
          "text": [
            "[0.17893583 0.1929859 ]\n"
          ]
        }
      ]
    },
    {
      "cell_type": "code",
      "source": [],
      "metadata": {
        "id": "TWjj4wzwb2TT"
      },
      "execution_count": null,
      "outputs": []
    }
  ]
}