{
  "nbformat": 4,
  "nbformat_minor": 0,
  "metadata": {
    "colab": {
      "name": "testeerradowebscraping.ipynb",
      "provenance": []
    },
    "kernelspec": {
      "name": "python3",
      "display_name": "Python 3"
    },
    "language_info": {
      "name": "python"
    }
  },
  "cells": [
    {
      "cell_type": "code",
      "execution_count": 43,
      "metadata": {
        "id": "pHYKmUmUC_V5"
      },
      "outputs": [],
      "source": [
        "import pandas as pd\n",
        "import seaborn as sns\n",
        "import matplotlib.pyplot as plt\n",
        "\n",
        "import requests\n",
        "\n",
        "import warnings\n",
        "warnings.filterwarnings('ignore')"
      ]
    },
    {
      "cell_type": "code",
      "source": [
        "from bs4 import BeautifulSoup"
      ],
      "metadata": {
        "id": "DLVDUiLVFFfL"
      },
      "execution_count": 44,
      "outputs": []
    },
    {
      "cell_type": "code",
      "source": [
        "#url = 'https://www3.bcb.gov.br/sgspub/consultarvalores/consultarValoresSeries.do?method=consultarValores'\n",
        "\n",
        "#dados = pd.read_html('url')"
      ],
      "metadata": {
        "id": "oueCOP9-DKjG"
      },
      "execution_count": 45,
      "outputs": []
    },
    {
      "cell_type": "code",
      "source": [
        "dados = requests.get(\"https://www3.bcb.gov.br/sgspub/consultarvalores/consultarValoresSeries.do?method=consultarValore\")"
      ],
      "metadata": {
        "id": "VW92LkcFDcqB"
      },
      "execution_count": 46,
      "outputs": []
    },
    {
      "cell_type": "code",
      "source": [
        "#requests.get serve para carregar o link do site\n",
        "#abaixo, se digitar o nome da variáve e ela retornar <Response [200]>, é um bom sinal"
      ],
      "metadata": {
        "id": "nzzu3F4XFWxy"
      },
      "execution_count": 47,
      "outputs": []
    },
    {
      "cell_type": "code",
      "source": [
        "dados"
      ],
      "metadata": {
        "colab": {
          "base_uri": "https://localhost:8080/"
        },
        "id": "fVntO7xQEeXf",
        "outputId": "340a5742-5e2f-40c5-f317-8d4e925220e2"
      },
      "execution_count": 48,
      "outputs": [
        {
          "output_type": "execute_result",
          "data": {
            "text/plain": [
              "<Response [500]>"
            ]
          },
          "metadata": {},
          "execution_count": 48
        }
      ]
    },
    {
      "cell_type": "code",
      "source": [
        "type(dados)"
      ],
      "metadata": {
        "colab": {
          "base_uri": "https://localhost:8080/"
        },
        "id": "6bQa4Rc6EfrB",
        "outputId": "d0021b10-83ae-4de6-c49e-5df879415117"
      },
      "execution_count": 49,
      "outputs": [
        {
          "output_type": "execute_result",
          "data": {
            "text/plain": [
              "requests.models.Response"
            ]
          },
          "metadata": {},
          "execution_count": 49
        }
      ]
    },
    {
      "cell_type": "code",
      "source": [
        "#usando type, e retornar a frase de cima, novamente sinal de que foi reconhecido o html: requests.models.Response\n",
        "#No passo a seguir, usar o beaituful soup para carregar as informações via text e \"html.parser\""
      ],
      "metadata": {
        "id": "SiVS66xwFk7J"
      },
      "execution_count": 50,
      "outputs": []
    },
    {
      "cell_type": "code",
      "source": [
        "Dados = BeautifulSoup(dados.text, 'html.parser')"
      ],
      "metadata": {
        "id": "ezeDQgXWEsps"
      },
      "execution_count": 51,
      "outputs": []
    },
    {
      "cell_type": "code",
      "source": [
        "type(Dados)"
      ],
      "metadata": {
        "colab": {
          "base_uri": "https://localhost:8080/"
        },
        "id": "8yCmTRbTFDee",
        "outputId": "6b72638d-4d48-45f7-c479-c297a5682463"
      },
      "execution_count": 52,
      "outputs": [
        {
          "output_type": "execute_result",
          "data": {
            "text/plain": [
              "bs4.BeautifulSoup"
            ]
          },
          "metadata": {},
          "execution_count": 52
        }
      ]
    },
    {
      "cell_type": "code",
      "source": [
        "#depois da transformação, a resposta de type é a esperada, porém, \"Dados.title\" o usual seria um retorno do título, o que não aconteceu."
      ],
      "metadata": {
        "id": "bWKNWN51GIlD"
      },
      "execution_count": 53,
      "outputs": []
    },
    {
      "cell_type": "code",
      "source": [
        "Dados.title"
      ],
      "metadata": {
        "id": "Sp0yUX9CGADi"
      },
      "execution_count": 54,
      "outputs": []
    },
    {
      "cell_type": "code",
      "source": [
        "Tabelas = Dados.find_all('table', attrs={'class' : 'table table-striped table-hover table-condensed'})\n",
        "Tabelas"
      ],
      "metadata": {
        "colab": {
          "base_uri": "https://localhost:8080/"
        },
        "id": "jW0QxZI_GCFM",
        "outputId": "6b6a1b62-c292-490e-f6df-ca8d1ff0e424"
      },
      "execution_count": 55,
      "outputs": [
        {
          "output_type": "execute_result",
          "data": {
            "text/plain": [
              "[]"
            ]
          },
          "metadata": {},
          "execution_count": 55
        }
      ]
    },
    {
      "cell_type": "code",
      "source": [
        "#nao tem"
      ],
      "metadata": {
        "id": "ndLH1o9VI0Ed"
      },
      "execution_count": 56,
      "outputs": []
    },
    {
      "cell_type": "code",
      "source": [],
      "metadata": {
        "id": "fsUzxdedI_CC"
      },
      "execution_count": 56,
      "outputs": []
    }
  ]
}